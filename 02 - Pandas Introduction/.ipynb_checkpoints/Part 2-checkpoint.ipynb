{
 "cells": [
  {
   "cell_type": "code",
   "execution_count": 1,
   "id": "0c743fbc",
   "metadata": {},
   "outputs": [
    {
     "name": "stdout",
     "output_type": "stream",
     "text": [
      "Halo nama saya Yudha\n"
     ]
    }
   ],
   "source": [
    "print(\"Halo nama saya Yudha\")"
   ]
  },
  {
   "cell_type": "code",
   "execution_count": 2,
   "id": "1b8d912f",
   "metadata": {},
   "outputs": [
    {
     "name": "stdout",
     "output_type": "stream",
     "text": [
      "Halo nama saya bayu\n"
     ]
    }
   ],
   "source": [
    "print('Halo nama saya bayu')"
   ]
  },
  {
   "cell_type": "markdown",
   "id": "714e50ae",
   "metadata": {},
   "source": [
    "# Variable\n"
   ]
  },
  {
   "cell_type": "code",
   "execution_count": 3,
   "id": "ef9dd5bf",
   "metadata": {},
   "outputs": [],
   "source": [
    "a = 1"
   ]
  },
  {
   "cell_type": "code",
   "execution_count": 4,
   "id": "7df6ca05",
   "metadata": {},
   "outputs": [
    {
     "data": {
      "text/plain": [
       "1"
      ]
     },
     "execution_count": 4,
     "metadata": {},
     "output_type": "execute_result"
    }
   ],
   "source": [
    "a"
   ]
  },
  {
   "cell_type": "code",
   "execution_count": 5,
   "id": "420fda81",
   "metadata": {},
   "outputs": [],
   "source": [
    "a , b = 2, 3"
   ]
  },
  {
   "cell_type": "code",
   "execution_count": 6,
   "id": "943576db",
   "metadata": {},
   "outputs": [
    {
     "data": {
      "text/plain": [
       "3"
      ]
     },
     "execution_count": 6,
     "metadata": {},
     "output_type": "execute_result"
    }
   ],
   "source": [
    "b\n"
   ]
  },
  {
   "cell_type": "code",
   "execution_count": 7,
   "id": "d5f7b134",
   "metadata": {},
   "outputs": [
    {
     "data": {
      "text/plain": [
       "2"
      ]
     },
     "execution_count": 7,
     "metadata": {},
     "output_type": "execute_result"
    }
   ],
   "source": [
    "a"
   ]
  },
  {
   "cell_type": "code",
   "execution_count": 8,
   "id": "781cb151",
   "metadata": {},
   "outputs": [
    {
     "data": {
      "text/plain": [
       "(2, 3)"
      ]
     },
     "execution_count": 8,
     "metadata": {},
     "output_type": "execute_result"
    }
   ],
   "source": [
    "a, b"
   ]
  },
  {
   "cell_type": "markdown",
   "id": "81c1edd0",
   "metadata": {},
   "source": [
    "# List\n"
   ]
  },
  {
   "cell_type": "code",
   "execution_count": 9,
   "id": "4fa900f9",
   "metadata": {},
   "outputs": [],
   "source": [
    "a = [1,2,3,4,5, \"empat,\", \"lima\", 1,2]"
   ]
  },
  {
   "cell_type": "code",
   "execution_count": 10,
   "id": "115bee41",
   "metadata": {},
   "outputs": [
    {
     "data": {
      "text/plain": [
       "[1, 2, 3, 4, 5, 'empat,', 'lima', 1, 2]"
      ]
     },
     "execution_count": 10,
     "metadata": {},
     "output_type": "execute_result"
    }
   ],
   "source": [
    "a"
   ]
  },
  {
   "cell_type": "code",
   "execution_count": 11,
   "id": "a6aec353",
   "metadata": {},
   "outputs": [
    {
     "data": {
      "text/plain": [
       "1"
      ]
     },
     "execution_count": 11,
     "metadata": {},
     "output_type": "execute_result"
    }
   ],
   "source": [
    "a[0]"
   ]
  },
  {
   "cell_type": "code",
   "execution_count": 12,
   "id": "20ad7ea6",
   "metadata": {},
   "outputs": [
    {
     "data": {
      "text/plain": [
       "'empat,'"
      ]
     },
     "execution_count": 12,
     "metadata": {},
     "output_type": "execute_result"
    }
   ],
   "source": [
    "a[5]"
   ]
  },
  {
   "cell_type": "code",
   "execution_count": 13,
   "id": "30032b35",
   "metadata": {},
   "outputs": [
    {
     "data": {
      "text/plain": [
       "2"
      ]
     },
     "execution_count": 13,
     "metadata": {},
     "output_type": "execute_result"
    }
   ],
   "source": [
    "a[-1]"
   ]
  },
  {
   "cell_type": "code",
   "execution_count": 14,
   "id": "9bcdf965",
   "metadata": {},
   "outputs": [],
   "source": [
    "a.append(7)"
   ]
  },
  {
   "cell_type": "code",
   "execution_count": 15,
   "id": "8a2b4033",
   "metadata": {},
   "outputs": [
    {
     "data": {
      "text/plain": [
       "[1, 2, 3, 4, 5, 'empat,', 'lima', 1, 2, 7]"
      ]
     },
     "execution_count": 15,
     "metadata": {},
     "output_type": "execute_result"
    }
   ],
   "source": [
    "a"
   ]
  },
  {
   "cell_type": "code",
   "execution_count": 16,
   "id": "69be9365",
   "metadata": {},
   "outputs": [
    {
     "data": {
      "text/plain": [
       "10"
      ]
     },
     "execution_count": 16,
     "metadata": {},
     "output_type": "execute_result"
    }
   ],
   "source": [
    "len(a)"
   ]
  },
  {
   "cell_type": "markdown",
   "id": "d2041f4b",
   "metadata": {},
   "source": [
    "# Slicing"
   ]
  },
  {
   "cell_type": "code",
   "execution_count": 17,
   "id": "4c817fc5",
   "metadata": {},
   "outputs": [],
   "source": [
    "a = [0,1,2,3,4,5,6]"
   ]
  },
  {
   "cell_type": "code",
   "execution_count": 18,
   "id": "7e2097b0",
   "metadata": {},
   "outputs": [
    {
     "data": {
      "text/plain": [
       "[0, 1]"
      ]
     },
     "execution_count": 18,
     "metadata": {},
     "output_type": "execute_result"
    }
   ],
   "source": [
    "a[0:2]"
   ]
  },
  {
   "cell_type": "code",
   "execution_count": 19,
   "id": "926507fd",
   "metadata": {},
   "outputs": [
    {
     "data": {
      "text/plain": [
       "[0, 1, 2, 3, 4]"
      ]
     },
     "execution_count": 19,
     "metadata": {},
     "output_type": "execute_result"
    }
   ],
   "source": [
    "a[0:5]"
   ]
  },
  {
   "cell_type": "code",
   "execution_count": 20,
   "id": "b328263d",
   "metadata": {},
   "outputs": [
    {
     "data": {
      "text/plain": [
       "[3, 4]"
      ]
     },
     "execution_count": 20,
     "metadata": {},
     "output_type": "execute_result"
    }
   ],
   "source": [
    "a[3:-2]"
   ]
  },
  {
   "cell_type": "code",
   "execution_count": 21,
   "id": "105e0554",
   "metadata": {},
   "outputs": [
    {
     "data": {
      "text/plain": [
       "[0, 2, 4, 6]"
      ]
     },
     "execution_count": 21,
     "metadata": {},
     "output_type": "execute_result"
    }
   ],
   "source": [
    "a[::2]"
   ]
  },
  {
   "cell_type": "code",
   "execution_count": 22,
   "id": "f01e03f8",
   "metadata": {},
   "outputs": [
    {
     "data": {
      "text/plain": [
       "[1, 3]"
      ]
     },
     "execution_count": 22,
     "metadata": {},
     "output_type": "execute_result"
    }
   ],
   "source": [
    "a[1:5:2]"
   ]
  },
  {
   "cell_type": "code",
   "execution_count": 23,
   "id": "db25b773",
   "metadata": {},
   "outputs": [
    {
     "ename": "TypeError",
     "evalue": "slice indices must be integers or None or have an __index__ method",
     "output_type": "error",
     "traceback": [
      "\u001b[1;31m---------------------------------------------------------------------------\u001b[0m",
      "\u001b[1;31mTypeError\u001b[0m                                 Traceback (most recent call last)",
      "\u001b[1;32m~\\AppData\\Local\\Temp/ipykernel_10216/3212129704.py\u001b[0m in \u001b[0;36m<module>\u001b[1;34m\u001b[0m\n\u001b[1;32m----> 1\u001b[1;33m \u001b[0ma\u001b[0m\u001b[1;33m[\u001b[0m\u001b[0ma\u001b[0m\u001b[1;33m:\u001b[0m\u001b[1;33m:\u001b[0m\u001b[1;33m-\u001b[0m\u001b[1;36m1\u001b[0m\u001b[1;33m]\u001b[0m\u001b[1;33m\u001b[0m\u001b[1;33m\u001b[0m\u001b[0m\n\u001b[0m",
      "\u001b[1;31mTypeError\u001b[0m: slice indices must be integers or None or have an __index__ method"
     ]
    }
   ],
   "source": [
    "a[a::-1]"
   ]
  },
  {
   "cell_type": "markdown",
   "id": "0d6cbb17",
   "metadata": {},
   "source": [
    "# Join & Split"
   ]
  },
  {
   "cell_type": "code",
   "execution_count": 24,
   "id": "f640a43c",
   "metadata": {},
   "outputs": [],
   "source": [
    "a = [\"cat\", \"dog\", \"fish\"]"
   ]
  },
  {
   "cell_type": "code",
   "execution_count": 25,
   "id": "c7fb50c7",
   "metadata": {},
   "outputs": [
    {
     "data": {
      "text/plain": [
       "'cat dog fish'"
      ]
     },
     "execution_count": 25,
     "metadata": {},
     "output_type": "execute_result"
    }
   ],
   "source": [
    "\" \".join(a)"
   ]
  },
  {
   "cell_type": "code",
   "execution_count": 26,
   "id": "6a644f9c",
   "metadata": {},
   "outputs": [
    {
     "data": {
      "text/plain": [
       "'cat, dog, fish'"
      ]
     },
     "execution_count": 26,
     "metadata": {},
     "output_type": "execute_result"
    }
   ],
   "source": [
    "\", \".join(a)"
   ]
  },
  {
   "cell_type": "code",
   "execution_count": 27,
   "id": "363d40af",
   "metadata": {},
   "outputs": [],
   "source": [
    "a = \"Video ini tentang python\""
   ]
  },
  {
   "cell_type": "code",
   "execution_count": 28,
   "id": "46579805",
   "metadata": {},
   "outputs": [
    {
     "data": {
      "text/plain": [
       "['Video', 'ini', 'tentang', 'python']"
      ]
     },
     "execution_count": 28,
     "metadata": {},
     "output_type": "execute_result"
    }
   ],
   "source": [
    "a.split()"
   ]
  },
  {
   "cell_type": "code",
   "execution_count": 29,
   "id": "b1ed7de6",
   "metadata": {},
   "outputs": [],
   "source": [
    "a = \"aku jengkel sama dia, dia sangat nakal\""
   ]
  },
  {
   "cell_type": "code",
   "execution_count": 30,
   "id": "80ff7d53",
   "metadata": {},
   "outputs": [
    {
     "data": {
      "text/plain": [
       "['aku jengkel sama dia', ' dia sangat nakal']"
      ]
     },
     "execution_count": 30,
     "metadata": {},
     "output_type": "execute_result"
    }
   ],
   "source": [
    "a.split(\",\")"
   ]
  },
  {
   "cell_type": "markdown",
   "id": "c9b62a39",
   "metadata": {},
   "source": [
    "# Dictionary"
   ]
  },
  {
   "cell_type": "code",
   "execution_count": 31,
   "id": "194d4b28",
   "metadata": {},
   "outputs": [
    {
     "ename": "SyntaxError",
     "evalue": "invalid syntax (Temp/ipykernel_10216/245221319.py, line 1)",
     "output_type": "error",
     "traceback": [
      "\u001b[1;36m  File \u001b[1;32m\"C:\\Users\\yudas\\AppData\\Local\\Temp/ipykernel_10216/245221319.py\"\u001b[1;36m, line \u001b[1;32m1\u001b[0m\n\u001b[1;33m    a = {'cat': 'kucing', 'dog': 'anjing', 'fish'; 'ikan'}\u001b[0m\n\u001b[1;37m                                                 ^\u001b[0m\n\u001b[1;31mSyntaxError\u001b[0m\u001b[1;31m:\u001b[0m invalid syntax\n"
     ]
    }
   ],
   "source": [
    "a = {'cat': 'kucing', 'dog': 'anjing', 'fish'; 'ikan'}"
   ]
  },
  {
   "cell_type": "code",
   "execution_count": 32,
   "id": "c28d5f26",
   "metadata": {},
   "outputs": [],
   "source": [
    "a = {'cat': 'kucing', 'dog': 'anjing', 'fish':'ikan'}"
   ]
  },
  {
   "cell_type": "code",
   "execution_count": 33,
   "id": "38ffa224",
   "metadata": {},
   "outputs": [
    {
     "data": {
      "text/plain": [
       "{'cat': 'kucing', 'dog': 'anjing', 'fish': 'ikan'}"
      ]
     },
     "execution_count": 33,
     "metadata": {},
     "output_type": "execute_result"
    }
   ],
   "source": [
    "a"
   ]
  },
  {
   "cell_type": "code",
   "execution_count": 34,
   "id": "4b1132d0",
   "metadata": {},
   "outputs": [
    {
     "ename": "AttributeError",
     "evalue": "'dict' object has no attribute 'kucing'",
     "output_type": "error",
     "traceback": [
      "\u001b[1;31m---------------------------------------------------------------------------\u001b[0m",
      "\u001b[1;31mAttributeError\u001b[0m                            Traceback (most recent call last)",
      "\u001b[1;32m~\\AppData\\Local\\Temp/ipykernel_10216/3147226364.py\u001b[0m in \u001b[0;36m<module>\u001b[1;34m\u001b[0m\n\u001b[1;32m----> 1\u001b[1;33m \u001b[0ma\u001b[0m\u001b[1;33m.\u001b[0m\u001b[0mkucing\u001b[0m\u001b[1;33m\u001b[0m\u001b[1;33m\u001b[0m\u001b[0m\n\u001b[0m",
      "\u001b[1;31mAttributeError\u001b[0m: 'dict' object has no attribute 'kucing'"
     ]
    }
   ],
   "source": [
    "a.kucing"
   ]
  },
  {
   "cell_type": "code",
   "execution_count": 35,
   "id": "2e29962b",
   "metadata": {},
   "outputs": [
    {
     "ename": "KeyError",
     "evalue": "'kucing'",
     "output_type": "error",
     "traceback": [
      "\u001b[1;31m---------------------------------------------------------------------------\u001b[0m",
      "\u001b[1;31mKeyError\u001b[0m                                  Traceback (most recent call last)",
      "\u001b[1;32m~\\AppData\\Local\\Temp/ipykernel_10216/2212155605.py\u001b[0m in \u001b[0;36m<module>\u001b[1;34m\u001b[0m\n\u001b[1;32m----> 1\u001b[1;33m \u001b[0ma\u001b[0m\u001b[1;33m[\u001b[0m\u001b[1;34m'kucing'\u001b[0m\u001b[1;33m]\u001b[0m\u001b[1;33m\u001b[0m\u001b[1;33m\u001b[0m\u001b[0m\n\u001b[0m",
      "\u001b[1;31mKeyError\u001b[0m: 'kucing'"
     ]
    }
   ],
   "source": [
    "a['kucing']"
   ]
  },
  {
   "cell_type": "code",
   "execution_count": 36,
   "id": "12baed45",
   "metadata": {},
   "outputs": [
    {
     "data": {
      "text/plain": [
       "'kucing'"
      ]
     },
     "execution_count": 36,
     "metadata": {},
     "output_type": "execute_result"
    }
   ],
   "source": [
    "a['cat']"
   ]
  },
  {
   "cell_type": "code",
   "execution_count": 37,
   "id": "dc47313c",
   "metadata": {},
   "outputs": [
    {
     "data": {
      "text/plain": [
       "'ikan'"
      ]
     },
     "execution_count": 37,
     "metadata": {},
     "output_type": "execute_result"
    }
   ],
   "source": [
    "a['fish']"
   ]
  },
  {
   "cell_type": "code",
   "execution_count": 38,
   "id": "44a7504b",
   "metadata": {},
   "outputs": [],
   "source": [
    "a['bird'] = 'burung'"
   ]
  },
  {
   "cell_type": "code",
   "execution_count": 39,
   "id": "11d2a622",
   "metadata": {},
   "outputs": [
    {
     "data": {
      "text/plain": [
       "{'cat': 'kucing', 'dog': 'anjing', 'fish': 'ikan', 'bird': 'burung'}"
      ]
     },
     "execution_count": 39,
     "metadata": {},
     "output_type": "execute_result"
    }
   ],
   "source": [
    "a"
   ]
  },
  {
   "cell_type": "code",
   "execution_count": 40,
   "id": "3d5d0f95",
   "metadata": {},
   "outputs": [],
   "source": [
    "a['elephant'] = 'gajah'"
   ]
  },
  {
   "cell_type": "code",
   "execution_count": 41,
   "id": "2038740f",
   "metadata": {},
   "outputs": [
    {
     "data": {
      "text/plain": [
       "dict_keys(['cat', 'dog', 'fish', 'bird', 'elephant'])"
      ]
     },
     "execution_count": 41,
     "metadata": {},
     "output_type": "execute_result"
    }
   ],
   "source": [
    "a.keys()"
   ]
  },
  {
   "cell_type": "code",
   "execution_count": 42,
   "id": "bbde437d",
   "metadata": {},
   "outputs": [
    {
     "data": {
      "text/plain": [
       "dict_keys(['cat', 'dog', 'fish', 'bird', 'elephant'])"
      ]
     },
     "execution_count": 42,
     "metadata": {},
     "output_type": "execute_result"
    }
   ],
   "source": [
    "a.keys()"
   ]
  },
  {
   "cell_type": "code",
   "execution_count": 43,
   "id": "f8b75101",
   "metadata": {},
   "outputs": [
    {
     "data": {
      "text/plain": [
       "dict_values(['kucing', 'anjing', 'ikan', 'burung', 'gajah'])"
      ]
     },
     "execution_count": 43,
     "metadata": {},
     "output_type": "execute_result"
    }
   ],
   "source": [
    "a.values()"
   ]
  },
  {
   "cell_type": "code",
   "execution_count": 44,
   "id": "89ab4593",
   "metadata": {},
   "outputs": [
    {
     "ename": "SyntaxError",
     "evalue": "invalid syntax (Temp/ipykernel_10216/2101318467.py, line 1)",
     "output_type": "error",
     "traceback": [
      "\u001b[1;36m  File \u001b[1;32m\"C:\\Users\\yudas\\AppData\\Local\\Temp/ipykernel_10216/2101318467.py\"\u001b[1;36m, line \u001b[1;32m1\u001b[0m\n\u001b[1;33m    nilai = [\"Andi\" : 32, \"Budi\" : 80, \"Dendi\" : 32]\u001b[0m\n\u001b[1;37m                    ^\u001b[0m\n\u001b[1;31mSyntaxError\u001b[0m\u001b[1;31m:\u001b[0m invalid syntax\n"
     ]
    }
   ],
   "source": [
    "nilai = [\"Andi\" : 32, \"Budi\" : 80, \"Dendi\" : 32]"
   ]
  },
  {
   "cell_type": "code",
   "execution_count": 45,
   "id": "2a648956",
   "metadata": {},
   "outputs": [],
   "source": [
    "nilai = {\"Andi\" : 32, \"Budi\" : 80, \"Dendi\" : 32}"
   ]
  },
  {
   "cell_type": "code",
   "execution_count": 46,
   "id": "2a0d149c",
   "metadata": {},
   "outputs": [
    {
     "data": {
      "text/plain": [
       "{'Andi': 32, 'Budi': 80, 'Dendi': 32}"
      ]
     },
     "execution_count": 46,
     "metadata": {},
     "output_type": "execute_result"
    }
   ],
   "source": [
    "nilai"
   ]
  },
  {
   "cell_type": "code",
   "execution_count": 47,
   "id": "4fd33d97",
   "metadata": {},
   "outputs": [],
   "source": [
    "nilai[\"ruki\"] = 89"
   ]
  },
  {
   "cell_type": "code",
   "execution_count": 48,
   "id": "d455dcfa",
   "metadata": {},
   "outputs": [
    {
     "data": {
      "text/plain": [
       "{'Andi': 32, 'Budi': 80, 'Dendi': 32, 'ruki': 89}"
      ]
     },
     "execution_count": 48,
     "metadata": {},
     "output_type": "execute_result"
    }
   ],
   "source": [
    "nilai"
   ]
  },
  {
   "cell_type": "code",
   "execution_count": 49,
   "id": "63fbe637",
   "metadata": {},
   "outputs": [
    {
     "data": {
      "text/plain": [
       "{'Andi': 32, 'Budi': 80, 'Dendi': 32, 'ruki': 89}"
      ]
     },
     "execution_count": 49,
     "metadata": {},
     "output_type": "execute_result"
    }
   ],
   "source": [
    "nilai"
   ]
  },
  {
   "cell_type": "markdown",
   "id": "40f84ab6",
   "metadata": {},
   "source": [
    "# Function"
   ]
  },
  {
   "cell_type": "code",
   "execution_count": 50,
   "id": "9d41adb2",
   "metadata": {},
   "outputs": [],
   "source": [
    "def jumlah(a, b):\n",
    "    return a + b"
   ]
  },
  {
   "cell_type": "code",
   "execution_count": 51,
   "id": "974c8122",
   "metadata": {},
   "outputs": [
    {
     "data": {
      "text/plain": [
       "<function __main__.jumlah(a, b)>"
      ]
     },
     "execution_count": 51,
     "metadata": {},
     "output_type": "execute_result"
    }
   ],
   "source": [
    "jumlah"
   ]
  },
  {
   "cell_type": "code",
   "execution_count": 52,
   "id": "f0c57207",
   "metadata": {},
   "outputs": [
    {
     "data": {
      "text/plain": [
       "7"
      ]
     },
     "execution_count": 52,
     "metadata": {},
     "output_type": "execute_result"
    }
   ],
   "source": [
    "jumlah(3,4)"
   ]
  },
  {
   "cell_type": "code",
   "execution_count": 53,
   "id": "1b01000f",
   "metadata": {},
   "outputs": [
    {
     "ename": "IndentationError",
     "evalue": "expected an indented block (Temp/ipykernel_10216/2358518673.py, line 1)",
     "output_type": "error",
     "traceback": [
      "\u001b[1;36m  File \u001b[1;32m\"C:\\Users\\yudas\\AppData\\Local\\Temp/ipykernel_10216/2358518673.py\"\u001b[1;36m, line \u001b[1;32m1\u001b[0m\n\u001b[1;33m    def perkalian(a,b):\u001b[0m\n\u001b[1;37m                       ^\u001b[0m\n\u001b[1;31mIndentationError\u001b[0m\u001b[1;31m:\u001b[0m expected an indented block\n"
     ]
    }
   ],
   "source": [
    "def perkalian(a,b):"
   ]
  },
  {
   "cell_type": "code",
   "execution_count": 54,
   "id": "c6a280b1",
   "metadata": {},
   "outputs": [],
   "source": [
    "def perkalian(a,b):\n",
    "    return a * b"
   ]
  },
  {
   "cell_type": "code",
   "execution_count": 55,
   "id": "5ae36efc",
   "metadata": {},
   "outputs": [
    {
     "data": {
      "text/plain": [
       "6"
      ]
     },
     "execution_count": 55,
     "metadata": {},
     "output_type": "execute_result"
    }
   ],
   "source": [
    "perkalian(3,2)"
   ]
  },
  {
   "cell_type": "markdown",
   "id": "edfbe1bc",
   "metadata": {},
   "source": [
    "# Kondisi"
   ]
  },
  {
   "cell_type": "code",
   "execution_count": 56,
   "id": "62c67348",
   "metadata": {},
   "outputs": [],
   "source": [
    "score = 3 > 4"
   ]
  },
  {
   "cell_type": "code",
   "execution_count": 57,
   "id": "0f50141d",
   "metadata": {},
   "outputs": [
    {
     "data": {
      "text/plain": [
       "False"
      ]
     },
     "execution_count": 57,
     "metadata": {},
     "output_type": "execute_result"
    }
   ],
   "source": [
    "score"
   ]
  },
  {
   "cell_type": "code",
   "execution_count": 58,
   "id": "fcbca898",
   "metadata": {},
   "outputs": [],
   "source": [
    "score = 50"
   ]
  },
  {
   "cell_type": "code",
   "execution_count": 60,
   "id": "96979025",
   "metadata": {},
   "outputs": [
    {
     "ename": "SyntaxError",
     "evalue": "invalid syntax (Temp/ipykernel_10216/2943089388.py, line 7)",
     "output_type": "error",
     "traceback": [
      "\u001b[1;36m  File \u001b[1;32m\"C:\\Users\\yudas\\AppData\\Local\\Temp/ipykernel_10216/2943089388.py\"\u001b[1;36m, line \u001b[1;32m7\u001b[0m\n\u001b[1;33m    elif score === 100:\u001b[0m\n\u001b[1;37m                 ^\u001b[0m\n\u001b[1;31mSyntaxError\u001b[0m\u001b[1;31m:\u001b[0m invalid syntax\n"
     ]
    }
   ],
   "source": [
    "if 0<= score < 60:\n",
    "    print(\"indeks C\")\n",
    "elif 60 <= score < 80:\n",
    "    print(\"Indeks B\")\n",
    "elif score < 100 :\n",
    "    print(\"Indeks A\")\n",
    "elif score == 100:\n",
    "    print(\"Indeks S\")\n",
    "else:\n",
    "    print(\"Ketinggian Scorenya\")"
   ]
  },
  {
   "cell_type": "code",
   "execution_count": 61,
   "id": "d0dfb5b8",
   "metadata": {},
   "outputs": [
    {
     "name": "stdout",
     "output_type": "stream",
     "text": [
      "indeks C\n"
     ]
    }
   ],
   "source": [
    "if 0<= score < 60:\n",
    "    print(\"indeks C\")\n",
    "elif 60 <= score < 80:\n",
    "    print(\"Indeks B\")\n",
    "elif score < 100 :\n",
    "    print(\"Indeks A\")\n",
    "elif score == 100:\n",
    "    print(\"Indeks S\")\n",
    "else:\n",
    "    print(\"Ketinggian Scorenya\")"
   ]
  },
  {
   "cell_type": "code",
   "execution_count": 66,
   "id": "5a6c9f74",
   "metadata": {},
   "outputs": [],
   "source": [
    "def konversi_ke_indeks(score):\n",
    "    if 0<= score < 60:\n",
    "        return \"indeks C\"\n",
    "    elif 60 <= score < 80:\n",
    "        return \"Indeks B\"\n",
    "    elif score < 100 :\n",
    "        return \"Indeks A\"\n",
    "    elif score == 100:\n",
    "        return \"Indeks S\"\n",
    "    else:\n",
    "        return \"Ketinggia Scorenya\"\n",
    "    "
   ]
  },
  {
   "cell_type": "code",
   "execution_count": 64,
   "id": "d73cdad4",
   "metadata": {},
   "outputs": [
    {
     "name": "stdout",
     "output_type": "stream",
     "text": [
      "Indeks A\n"
     ]
    }
   ],
   "source": [
    "konversi_ke_indeks(89)"
   ]
  },
  {
   "cell_type": "code",
   "execution_count": 67,
   "id": "d1ead931",
   "metadata": {},
   "outputs": [
    {
     "data": {
      "text/plain": [
       "'Indeks B'"
      ]
     },
     "execution_count": 67,
     "metadata": {},
     "output_type": "execute_result"
    }
   ],
   "source": [
    "konversi_ke_indeks(77)"
   ]
  },
  {
   "cell_type": "markdown",
   "id": "0eb81602",
   "metadata": {},
   "source": [
    "# iterasi"
   ]
  },
  {
   "cell_type": "code",
   "execution_count": null,
   "id": "e34a72c6",
   "metadata": {},
   "outputs": [],
   "source": []
  },
  {
   "cell_type": "code",
   "execution_count": null,
   "id": "26d4bf93",
   "metadata": {},
   "outputs": [],
   "source": []
  },
  {
   "cell_type": "code",
   "execution_count": null,
   "id": "0162999f",
   "metadata": {},
   "outputs": [],
   "source": []
  },
  {
   "cell_type": "code",
   "execution_count": null,
   "id": "0008d951",
   "metadata": {},
   "outputs": [],
   "source": []
  },
  {
   "cell_type": "code",
   "execution_count": null,
   "id": "677310f6",
   "metadata": {},
   "outputs": [],
   "source": []
  },
  {
   "cell_type": "code",
   "execution_count": 68,
   "id": "1df95d65",
   "metadata": {},
   "outputs": [],
   "source": [
    " number = [1, 2, 3, 4, 5, 6]"
   ]
  },
  {
   "cell_type": "code",
   "execution_count": 69,
   "id": "e5ba900e",
   "metadata": {},
   "outputs": [
    {
     "name": "stdout",
     "output_type": "stream",
     "text": [
      "1\n",
      "2\n",
      "3\n",
      "4\n",
      "5\n",
      "6\n"
     ]
    }
   ],
   "source": [
    "for n in number:\n",
    "    print(n)"
   ]
  },
  {
   "cell_type": "code",
   "execution_count": 71,
   "id": "e5b27a69",
   "metadata": {},
   "outputs": [
    {
     "name": "stdout",
     "output_type": "stream",
     "text": [
      "Indeks A\n",
      "indeks C\n",
      "indeks C\n",
      "Ketinggia Scorenya\n"
     ]
    }
   ],
   "source": [
    "for score in [80,30, 55, 120]:\n",
    "    print(konversi_ke_indeks(score))"
   ]
  },
  {
   "cell_type": "code",
   "execution_count": 72,
   "id": "9d4e27ee",
   "metadata": {},
   "outputs": [
    {
     "ename": "SyntaxError",
     "evalue": "invalid syntax (Temp/ipykernel_10216/2799810734.py, line 2)",
     "output_type": "error",
     "traceback": [
      "\u001b[1;36m  File \u001b[1;32m\"C:\\Users\\yudas\\AppData\\Local\\Temp/ipykernel_10216/2799810734.py\"\u001b[1;36m, line \u001b[1;32m2\u001b[0m\n\u001b[1;33m    print(number++)\u001b[0m\n\u001b[1;37m                  ^\u001b[0m\n\u001b[1;31mSyntaxError\u001b[0m\u001b[1;31m:\u001b[0m invalid syntax\n"
     ]
    }
   ],
   "source": [
    "for score in number:\n",
    "    print(number++)"
   ]
  },
  {
   "cell_type": "code",
   "execution_count": 76,
   "id": "7b2aa10a",
   "metadata": {},
   "outputs": [
    {
     "name": "stdout",
     "output_type": "stream",
     "text": [
      "1\n",
      "4\n",
      "9\n",
      "16\n",
      "25\n",
      "36\n"
     ]
    }
   ],
   "source": [
    "for n in number:\n",
    "    print(n**2)"
   ]
  },
  {
   "cell_type": "code",
   "execution_count": 77,
   "id": "581eb2ec",
   "metadata": {},
   "outputs": [],
   "source": [
    "animals = [\"Cat\", \"Fish\", \"Elephant\", \"Bird\"]"
   ]
  },
  {
   "cell_type": "code",
   "execution_count": 81,
   "id": "7b3baeac",
   "metadata": {},
   "outputs": [
    {
     "name": "stdout",
     "output_type": "stream",
     "text": [
      "cat\n",
      "fish\n",
      "elephant\n",
      "bird\n"
     ]
    }
   ],
   "source": [
    "for animal in animals:\n",
    "    print(animal.lower())"
   ]
  },
  {
   "cell_type": "code",
   "execution_count": 82,
   "id": "414c3ff3",
   "metadata": {},
   "outputs": [
    {
     "data": {
      "text/plain": [
       "range(0, 5)"
      ]
     },
     "execution_count": 82,
     "metadata": {},
     "output_type": "execute_result"
    }
   ],
   "source": [
    "range(5)"
   ]
  },
  {
   "cell_type": "code",
   "execution_count": 84,
   "id": "bde19ec5",
   "metadata": {},
   "outputs": [
    {
     "name": "stdout",
     "output_type": "stream",
     "text": [
      "0\n",
      "1\n",
      "2\n",
      "3\n",
      "4\n"
     ]
    }
   ],
   "source": [
    "for i in range(5):\n",
    "    print(i)"
   ]
  },
  {
   "cell_type": "code",
   "execution_count": 85,
   "id": "37cf8761",
   "metadata": {},
   "outputs": [
    {
     "data": {
      "text/plain": [
       "1"
      ]
     },
     "execution_count": 85,
     "metadata": {},
     "output_type": "execute_result"
    }
   ],
   "source": [
    "a"
   ]
  },
  {
   "cell_type": "code",
   "execution_count": 87,
   "id": "5718defb",
   "metadata": {},
   "outputs": [],
   "source": [
    "a = {'cat': 'kucing', 'dog': 'anjing', 'fish':'ikan'}"
   ]
  },
  {
   "cell_type": "code",
   "execution_count": 88,
   "id": "18cbdfb7",
   "metadata": {},
   "outputs": [
    {
     "data": {
      "text/plain": [
       "{'cat': 'kucing', 'dog': 'anjing', 'fish': 'ikan'}"
      ]
     },
     "execution_count": 88,
     "metadata": {},
     "output_type": "execute_result"
    }
   ],
   "source": [
    "a"
   ]
  },
  {
   "cell_type": "code",
   "execution_count": 90,
   "id": "ef9824ea",
   "metadata": {},
   "outputs": [
    {
     "name": "stdout",
     "output_type": "stream",
     "text": [
      "Bahasa Indonesia dari cat adalah kucing\n",
      "Bahasa Indonesia dari dog adalah anjing\n",
      "Bahasa Indonesia dari fish adalah ikan\n"
     ]
    }
   ],
   "source": [
    "for key in a.keys():\n",
    "    print(\"Bahasa Indonesia dari\", key, \"adalah\",a[key])"
   ]
  },
  {
   "cell_type": "code",
   "execution_count": 91,
   "id": "01feeb32",
   "metadata": {},
   "outputs": [
    {
     "data": {
      "text/plain": [
       "'Bahasa Indonesia dari fish adalah ikan'"
      ]
     },
     "execution_count": 91,
     "metadata": {},
     "output_type": "execute_result"
    }
   ],
   "source": [
    "f\"Bahasa Indonesia dari {key} adalah {a[key]}\""
   ]
  },
  {
   "cell_type": "code",
   "execution_count": 93,
   "id": "8e805513",
   "metadata": {},
   "outputs": [],
   "source": [
    "a = []\n",
    "for i in range(5):\n",
    "    a.append(i + 2)"
   ]
  },
  {
   "cell_type": "code",
   "execution_count": 94,
   "id": "dc315f6d",
   "metadata": {},
   "outputs": [
    {
     "data": {
      "text/plain": [
       "[2, 3, 4, 5, 6]"
      ]
     },
     "execution_count": 94,
     "metadata": {},
     "output_type": "execute_result"
    }
   ],
   "source": [
    "a"
   ]
  },
  {
   "cell_type": "markdown",
   "id": "efbcad03",
   "metadata": {},
   "source": [
    "# Python Comprehension"
   ]
  },
  {
   "cell_type": "code",
   "execution_count": 96,
   "id": "30fda301",
   "metadata": {},
   "outputs": [],
   "source": [
    "a = [i++2 for i in range(5)]"
   ]
  },
  {
   "cell_type": "code",
   "execution_count": 97,
   "id": "7567a025",
   "metadata": {},
   "outputs": [
    {
     "data": {
      "text/plain": [
       "[2, 3, 4, 5, 6]"
      ]
     },
     "execution_count": 97,
     "metadata": {},
     "output_type": "execute_result"
    }
   ],
   "source": [
    "a"
   ]
  },
  {
   "cell_type": "code",
   "execution_count": 98,
   "id": "74643486",
   "metadata": {},
   "outputs": [],
   "source": [
    "a = {i: i++2 for i in range(5)}"
   ]
  },
  {
   "cell_type": "code",
   "execution_count": 99,
   "id": "9d730d77",
   "metadata": {},
   "outputs": [
    {
     "data": {
      "text/plain": [
       "{0: 2, 1: 3, 2: 4, 3: 5, 4: 6}"
      ]
     },
     "execution_count": 99,
     "metadata": {},
     "output_type": "execute_result"
    }
   ],
   "source": [
    "a"
   ]
  },
  {
   "cell_type": "code",
   "execution_count": 100,
   "id": "043bd99a",
   "metadata": {},
   "outputs": [
    {
     "data": {
      "text/plain": [
       "{1, 2, 3}"
      ]
     },
     "execution_count": 100,
     "metadata": {},
     "output_type": "execute_result"
    }
   ],
   "source": [
    "{1,2,3,2,1,3,2,1,2,2,3,2}"
   ]
  },
  {
   "cell_type": "code",
   "execution_count": 103,
   "id": "1f9faee5",
   "metadata": {},
   "outputs": [],
   "source": [
    "nilai = [konversi_ke_indeks(score) for score in (28, 56,267,45,33,55)]"
   ]
  },
  {
   "cell_type": "code",
   "execution_count": 104,
   "id": "a7aa7ed0",
   "metadata": {},
   "outputs": [
    {
     "data": {
      "text/plain": [
       "['indeks C',\n",
       " 'indeks C',\n",
       " 'Ketinggia Scorenya',\n",
       " 'indeks C',\n",
       " 'indeks C',\n",
       " 'indeks C']"
      ]
     },
     "execution_count": 104,
     "metadata": {},
     "output_type": "execute_result"
    }
   ],
   "source": [
    "nilai"
   ]
  },
  {
   "cell_type": "code",
   "execution_count": null,
   "id": "d8a938f4",
   "metadata": {},
   "outputs": [],
   "source": []
  }
 ],
 "metadata": {
  "kernelspec": {
   "display_name": "Python 3 (ipykernel)",
   "language": "python",
   "name": "python3"
  },
  "language_info": {
   "codemirror_mode": {
    "name": "ipython",
    "version": 3
   },
   "file_extension": ".py",
   "mimetype": "text/x-python",
   "name": "python",
   "nbconvert_exporter": "python",
   "pygments_lexer": "ipython3",
   "version": "3.9.5"
  }
 },
 "nbformat": 4,
 "nbformat_minor": 5
}
