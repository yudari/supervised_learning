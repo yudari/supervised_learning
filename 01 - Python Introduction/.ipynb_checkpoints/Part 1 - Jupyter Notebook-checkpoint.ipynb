{
 "cells": [
  {
   "cell_type": "markdown",
   "id": "9dc472cf",
   "metadata": {},
   "source": [
    "# Coba jupyter"
   ]
  },
  {
   "cell_type": "code",
   "execution_count": 1,
   "id": "7d48d32f",
   "metadata": {},
   "outputs": [
    {
     "data": {
      "text/plain": [
       "2"
      ]
     },
     "execution_count": 1,
     "metadata": {},
     "output_type": "execute_result"
    }
   ],
   "source": [
    "1 + 1"
   ]
  },
  {
   "cell_type": "markdown",
   "id": "cf44c619",
   "metadata": {},
   "source": [
    "## Ini adalah heading 2"
   ]
  },
  {
   "cell_type": "markdown",
   "id": "c83ecb16",
   "metadata": {},
   "source": [
    "### heading 3"
   ]
  },
  {
   "cell_type": "code",
   "execution_count": 2,
   "id": "48ad27ec",
   "metadata": {},
   "outputs": [
    {
     "data": {
      "text/plain": [
       "15"
      ]
     },
     "execution_count": 2,
     "metadata": {},
     "output_type": "execute_result"
    }
   ],
   "source": [
    "3 * 5"
   ]
  }
 ],
 "metadata": {
  "kernelspec": {
   "display_name": "Python 3 (ipykernel)",
   "language": "python",
   "name": "python3"
  },
  "language_info": {
   "codemirror_mode": {
    "name": "ipython",
    "version": 3
   },
   "file_extension": ".py",
   "mimetype": "text/x-python",
   "name": "python",
   "nbconvert_exporter": "python",
   "pygments_lexer": "ipython3",
   "version": "3.9.5"
  }
 },
 "nbformat": 4,
 "nbformat_minor": 5
}
