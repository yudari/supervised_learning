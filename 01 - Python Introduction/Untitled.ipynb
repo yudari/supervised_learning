{
 "cells": [
  {
   "cell_type": "markdown",
   "id": "1653bb76",
   "metadata": {},
   "source": [
    "# Exercise Kucing berhitung"
   ]
  },
  {
   "cell_type": "code",
   "execution_count": 9,
   "id": "d809b085",
   "metadata": {},
   "outputs": [
    {
     "name": "stdout",
     "output_type": "stream",
     "text": [
      "1\n",
      "2\n",
      "3\n",
      "4\n",
      "5\n",
      "6\n",
      "7\n",
      "8\n",
      "9\n",
      "10\n",
      "11\n",
      "12\n",
      "13\n",
      "14\n",
      "15\n",
      "16\n",
      "17\n",
      "18\n",
      "18\n",
      "18\n"
     ]
    }
   ],
   "source": [
    "#1 \n",
    "for i in range(20):\n",
    "    i = i + 1\n",
    "    if(i  > 18):\n",
    "        print(18)\n",
    "    else:\n",
    "        print(i)"
   ]
  },
  {
   "cell_type": "code",
   "execution_count": 7,
   "id": "818daa92",
   "metadata": {},
   "outputs": [
    {
     "name": "stdout",
     "output_type": "stream",
     "text": [
      "1\n",
      "2\n",
      "3\n",
      "4\n",
      "5\n",
      "6\n",
      "7\n",
      "8\n",
      "9\n",
      "10\n",
      "11\n",
      "12\n",
      "13\n",
      "14\n",
      "15\n",
      "16\n",
      "17\n",
      "18\n"
     ]
    }
   ],
   "source": [
    "#\n",
    "for i in range(18):\n",
    "    print(i + 1)"
   ]
  },
  {
   "cell_type": "markdown",
   "id": "0b7b2d74",
   "metadata": {},
   "source": [
    "# Daftar Pangkat"
   ]
  },
  {
   "cell_type": "code",
   "execution_count": 16,
   "id": "ec709ef1",
   "metadata": {},
   "outputs": [],
   "source": [
    "#3\n",
    "a = [i**2 for i in range(0,5)]"
   ]
  },
  {
   "cell_type": "code",
   "execution_count": 17,
   "id": "02fb2da5",
   "metadata": {},
   "outputs": [
    {
     "data": {
      "text/plain": [
       "[0, 1, 4, 9, 16]"
      ]
     },
     "execution_count": 17,
     "metadata": {},
     "output_type": "execute_result"
    }
   ],
   "source": [
    "a"
   ]
  },
  {
   "cell_type": "code",
   "execution_count": null,
   "id": "2d7b9e14",
   "metadata": {},
   "outputs": [],
   "source": []
  }
 ],
 "metadata": {
  "kernelspec": {
   "display_name": "Python 3 (ipykernel)",
   "language": "python",
   "name": "python3"
  },
  "language_info": {
   "codemirror_mode": {
    "name": "ipython",
    "version": 3
   },
   "file_extension": ".py",
   "mimetype": "text/x-python",
   "name": "python",
   "nbconvert_exporter": "python",
   "pygments_lexer": "ipython3",
   "version": "3.9.5"
  }
 },
 "nbformat": 4,
 "nbformat_minor": 5
}
